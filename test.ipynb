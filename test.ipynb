{
 "cells": [
  {
   "cell_type": "code",
   "execution_count": 1,
   "id": "f0e310ed",
   "metadata": {},
   "outputs": [
    {
     "name": "stderr",
     "output_type": "stream",
     "text": [
      "c:\\work\\chiayi_customer_service\\venv\\Lib\\site-packages\\tqdm\\auto.py:21: TqdmWarning: IProgress not found. Please update jupyter and ipywidgets. See https://ipywidgets.readthedocs.io/en/stable/user_install.html\n",
      "  from .autonotebook import tqdm as notebook_tqdm\n"
     ]
    },
    {
     "name": "stdout",
     "output_type": "stream",
     "text": [
      "5\n",
      "3c4f3703-7500-47e3-b608-87fb85df6a59 docs\\qa.md\n",
      "4dd86cab-ba61-41a0-a913-3dadb3be87ab docs\\qa.md\n",
      "63dbcf20-6ba2-44a6-a58f-dce9e0a952f0 docs\\qa.md\n",
      "852dc10f-a6bb-4835-91a3-02f6f247e69d docs\\qa.md\n",
      "9d59b122-a7fc-47ac-972e-83bcc193edf6 docs\\qa.md\n"
     ]
    }
   ],
   "source": [
    "from qdrant_client import QdrantClient, models\n",
    "c = QdrantClient(\"http://localhost:6333\")\n",
    "\n",
    "# 看看集合有幾筆\n",
    "print(c.count(\"docs_hybrid\", exact=True).count)\n",
    "\n",
    "# 抽樣看 payload（只看 10 筆）\n",
    "r = c.scroll(\n",
    "    collection_name=\"docs_hybrid\",\n",
    "    limit=10,\n",
    "    with_payload=True,\n",
    "    with_vectors=False,\n",
    ")\n",
    "for pt in r[0]:\n",
    "    print(pt.id, pt.payload.get(\"source\"))"
   ]
  },
  {
   "cell_type": "code",
   "execution_count": 2,
   "id": "abc180f0",
   "metadata": {},
   "outputs": [
    {
     "name": "stderr",
     "output_type": "stream",
     "text": [
      "c:\\work\\chiayi_customer_service\\venv\\Lib\\site-packages\\qdrant_client\\embed\\embedder.py:78: UserWarning: The model sentence-transformers/paraphrase-multilingual-MiniLM-L12-v2 now uses mean pooling instead of CLS embedding. In order to preserve the previous behaviour, consider either pinning fastembed version to 0.5.1 or using `add_custom_model` functionality.\n",
      "  model = TextEmbedding(model_name=model_name, **options)\n"
     ]
    },
    {
     "name": "stdout",
     "output_type": "stream",
     "text": [
      "5\n"
     ]
    }
   ],
   "source": [
    "r = c.query_points(\n",
    "    collection_name=\"docs_hybrid\",\n",
    "    query=models.FusionQuery(fusion=models.Fusion.RRF),\n",
    "    prefetch=[\n",
    "      models.Prefetch(query=models.Document(text=\"*\", model=\"Qdrant/bm25\"), using=\"sparse\"),\n",
    "      models.Prefetch(query=models.Document(text=\"*\", model=\"sentence-transformers/paraphrase-multilingual-MiniLM-L12-v2\"), using=\"dense\"),\n",
    "    ],\n",
    "    limit=5,\n",
    "    with_payload=True,\n",
    "    query_filter=models.Filter(\n",
    "        must=[models.FieldCondition(key=\"source\", match=models.MatchText(text=\"qa.md\"))]\n",
    "    ),\n",
    ")\n",
    "print(len(r.points))\n"
   ]
  },
  {
   "cell_type": "code",
   "execution_count": null,
   "id": "2466c9af",
   "metadata": {},
   "outputs": [],
   "source": []
  }
 ],
 "metadata": {
  "kernelspec": {
   "display_name": "venv (3.11.13)",
   "language": "python",
   "name": "python3"
  },
  "language_info": {
   "codemirror_mode": {
    "name": "ipython",
    "version": 3
   },
   "file_extension": ".py",
   "mimetype": "text/x-python",
   "name": "python",
   "nbconvert_exporter": "python",
   "pygments_lexer": "ipython3",
   "version": "3.11.13"
  }
 },
 "nbformat": 4,
 "nbformat_minor": 5
}
